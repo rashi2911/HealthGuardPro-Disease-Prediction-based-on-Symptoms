{
 "cells": [
  {
   "cell_type": "code",
   "execution_count": 30,
   "id": "4aa375b5",
   "metadata": {},
   "outputs": [],
   "source": [
    "import openpyxl\n",
    "\n",
    "def fetch_row_from_excel(search_value):\n",
    "    workbook = openpyxl.load_workbook('F:\\SEM 6\\Minor-2\\Disease-Detection-based-on-Symptoms-master\\cure minor.xlsx')\n",
    "    worksheet = workbook['Sheet1']\n",
    "    for row in worksheet.iter_rows(values_only=True):\n",
    "        if search_value in row:\n",
    "            stri = ''.join(row[1:])\n",
    "            return stri.split(',')\n",
    "    return None"
   ]
  },
  {
   "cell_type": "code",
   "execution_count": 31,
   "id": "d1e32d61",
   "metadata": {},
   "outputs": [
    {
     "name": "stdout",
     "output_type": "stream",
     "text": [
      "The home remedies for Amoebiasis are: \n"
     ]
    },
    {
     "data": {
      "text/plain": [
       "['Practice yoga daily to help boost flexibility',\n",
       " 'Consume omega-3 capsules',\n",
       " 'Consume black or green tea',\n",
       " 'Stick to a plant based diet involving fruits and vegetables.']"
      ]
     },
     "execution_count": 31,
     "metadata": {},
     "output_type": "execute_result"
    }
   ],
   "source": [
    "print(f\"The home remedies for {search_value} are: \")\n",
    "\n",
    "fetch_row_from_excel('Asthma')"
   ]
  }
 ],
 "metadata": {
  "kernelspec": {
   "display_name": "Python 3",
   "language": "python",
   "name": "python3"
  },
  "language_info": {
   "codemirror_mode": {
    "name": "ipython",
    "version": 3
   },
   "file_extension": ".py",
   "mimetype": "text/x-python",
   "name": "python",
   "nbconvert_exporter": "python",
   "pygments_lexer": "ipython3",
   "version": "3.8.8"
  }
 },
 "nbformat": 4,
 "nbformat_minor": 5
}
