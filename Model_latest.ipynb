{
 "cells": [
  {
   "cell_type": "markdown",
   "metadata": {
    "colab_type": "text",
    "id": "GpY-ArzB1rH-"
   },
   "source": [
    "# **Disease Detection using Symptoms and Treatment recommendation**\n",
    "\n",
    "This notebook contains all the models applied on the scraped dataset and contains the accuracy comparison plot.\n"
   ]
  },
  {
   "cell_type": "code",
   "execution_count": 1,
   "metadata": {
    "colab": {},
    "colab_type": "code",
    "id": "lEsjGGNblruf"
   },
   "outputs": [],
   "source": [
    "# all necessary imports\n",
    "import warnings\n",
    "from decimal import Decimal\n",
    "import pandas as pd\n",
    "from sklearn.tree import DecisionTreeClassifier\n",
    "from sklearn.linear_model import LogisticRegression\n",
    "from sklearn.neighbors import KNeighborsClassifier\n",
    "from sklearn.svm import SVC\n",
    "from sklearn.metrics import accuracy_score\n",
    "from sklearn.model_selection import train_test_split, cross_val_score\n",
    "from sklearn.model_selection import GridSearchCV\n",
    "from sklearn.naive_bayes import MultinomialNB\n",
    "from sklearn.ensemble import RandomForestClassifier\n",
    "from sklearn.neural_network import MLPClassifier\n",
    "from xgboost import XGBClassifier\n",
    "import matplotlib.pyplot as plt\n",
    "# ignore warnings generated due to usage of old version of tensorflow\n",
    "warnings.simplefilter(\"ignore\")"
   ]
  },
  {
   "cell_type": "markdown",
   "metadata": {
    "colab_type": "text",
    "id": "t1sbUx8C22zG"
   },
   "source": [
    "**Disease Symptom dataset** was created in a separate python program.\n",
    "\n",
    "**Dataset scrapping** was done using **NHP website** and **wikipedia data**"
   ]
  },
  {
   "cell_type": "code",
   "execution_count": 3,
   "metadata": {
    "colab": {},
    "colab_type": "code",
    "id": "xTIhMk1Ilz7O"
   },
   "outputs": [],
   "source": [
    "# Load Dataset scraped from NHP (https://www.nhp.gov.in/disease-a-z) & Wikipedia\n",
    "# Scrapping and creation of dataset csv is done in a separate program\n",
    "df_comb = pd.read_csv(\"F:\\SEM 6\\Minor-2\\Disease-Detection-based-on-Symptoms-master\\Dataset\\dis_sym_dataset_comb.csv\")\n",
    "\n",
    "# creation of features and label for training the models\n",
    "X = df_comb.iloc[:, 1:]\n",
    "Y = df_comb.iloc[:, 0:1]"
   ]
  },
  {
   "cell_type": "markdown",
   "metadata": {
    "colab_type": "text",
    "id": "wB98cbQc3kX1"
   },
   "source": [
    "*Train Test Split*"
   ]
  },
  {
   "cell_type": "code",
   "execution_count": 4,
   "metadata": {
    "colab": {},
    "colab_type": "code",
    "id": "43edxNr-l37s"
   },
   "outputs": [],
   "source": [
    "# splitting data for training the classifiers and testing\n",
    "x_train, x_test, y_train, y_test = train_test_split(X, Y, test_size=0.10)"
   ]
  },
  {
   "cell_type": "code",
   "execution_count": 5,
   "metadata": {
    "colab": {},
    "colab_type": "code",
    "id": "NFWxSoKRl6iU"
   },
   "outputs": [],
   "source": [
    "# lists used for accuracy plots\n",
    "accuracy_list = []\n",
    "cross_accuracy_list = []\n",
    "model_list = []"
   ]
  },
  {
   "cell_type": "markdown",
   "metadata": {
    "colab_type": "text",
    "id": "50u3FJaH3r0k"
   },
   "source": [
    "# **Multinomial Naive Bayes Classifier**\n",
    "\n",
    "MNB works better on discrete features and the multinomial distribution usually requires integer counts. However, it also works with fractional counts such tf-idf."
   ]
  },
  {
   "cell_type": "code",
   "execution_count": 6,
   "metadata": {
    "colab": {
     "base_uri": "https://localhost:8080/",
     "height": 50
    },
    "colab_type": "code",
    "id": "OUrShCRcl8Gs",
    "outputId": "fa8d8306-89bf-4c5d-e23f-58a60d0bf647"
   },
   "outputs": [
    {
     "name": "stdout",
     "output_type": "stream",
     "text": [
      "Accuracy (MNB) : 86.43%\n",
      "Cross Validation Accuracy (MNB): 84.50%\n"
     ]
    }
   ],
   "source": [
    "# Multinomial NB Classifier\n",
    "mnb = MultinomialNB()\n",
    "mnb = mnb.fit(X, Y)\n",
    "# prediction of labels for the test data\n",
    "mnb_pred = mnb.predict(x_test)\n",
    "# calculation of accuracy score based on predictions performed\n",
    "# converting to Decimal as rounding with float is inaccurate\n",
    "acc_mnb = round(Decimal(accuracy_score(y_test, mnb_pred) * 100), 2)\n",
    "accuracy_list.append(acc_mnb)\n",
    "model_list.append(\"MNB\")\n",
    "print(f\"Accuracy (MNB) : {acc_mnb}%\")\n",
    "\n",
    "# Cross Validation Accuracy MNB\n",
    "# performing cross validation with 5 different splits\n",
    "scores_mnb = cross_val_score(mnb, X, Y, cv=5)\n",
    "# mean of cross val score (accuracy)\n",
    "score = round(Decimal(scores_mnb.mean() * 100), 2)\n",
    "cross_accuracy_list.append(score)\n",
    "print(f\"Cross Validation Accuracy (MNB): {score}%\")"
   ]
  },
  {
   "cell_type": "markdown",
   "metadata": {
    "colab_type": "text",
    "id": "gEJWlm2u3yRc"
   },
   "source": [
    "# **Random Forest Classifier**\n",
    "\n",
    "RF classifier is an estimator that fits a number of decision tree classifiers on various sub-samples of the dataset and take the average to improve predicting accuracy."
   ]
  },
  {
   "cell_type": "code",
   "execution_count": 7,
   "metadata": {
    "colab": {
     "base_uri": "https://localhost:8080/",
     "height": 50
    },
    "colab_type": "code",
    "id": "owiCcnlvmAP9",
    "outputId": "0e011b23-5965-4fa7-ee6d-416ebc2070ed"
   },
   "outputs": [
    {
     "name": "stdout",
     "output_type": "stream",
     "text": [
      "Accuracy (RF) : 91.40%\n",
      "Cross Validation Accuracy (RF): 86.81%\n"
     ]
    }
   ],
   "source": [
    "# RF Classifier\n",
    "rf = RandomForestClassifier(n_estimators=10, criterion='entropy')\n",
    "rf = rf.fit(X, Y)\n",
    "# prediction of labels for the test data\n",
    "rf_pred = rf.predict(x_test)\n",
    "acc_rf = round(Decimal(accuracy_score(y_test, rf_pred) * 100), 2)\n",
    "accuracy_list.append(acc_rf)\n",
    "model_list.append(\"RF\")\n",
    "print(f\"Accuracy (RF) : {acc_rf}%\")\n",
    "\n",
    "# Cross Validation Accuracy RF\n",
    "# performing cross validation with 5 different splits\n",
    "scores_rf = cross_val_score(rf, X, Y, cv=5)\n",
    "# mean of cross val score (accuracy)\n",
    "score = round(Decimal(scores_rf.mean() * 100), 2)\n",
    "cross_accuracy_list.append(score)\n",
    "print(f\"Cross Validation Accuracy (RF): {score}%\")"
   ]
  },
  {
   "cell_type": "markdown",
   "metadata": {
    "colab_type": "text",
    "id": "xxdvB5Bz9yEx"
   },
   "source": [
    "# **K-Nearest Neighbor Classifier**\n",
    "\n",
    "The principle behind nearest neighbor method is to find a predefined number of training samples closest in distance to the new point, and predict the label from these. No. of samples used here is 7."
   ]
  },
  {
   "cell_type": "code",
   "execution_count": 8,
   "metadata": {
    "colab": {
     "base_uri": "https://localhost:8080/",
     "height": 50
    },
    "colab_type": "code",
    "id": "OfIMLCfPmCqr",
    "outputId": "2040dc76-c519-433e-e558-504b38f9d227"
   },
   "outputs": [
    {
     "name": "stdout",
     "output_type": "stream",
     "text": [
      "Accuracy (KNN) : 91.97%\n",
      "Cross Validation Accuracy (KNN): 85.25%\n"
     ]
    }
   ],
   "source": [
    "# KNN Classifier\n",
    "knn = KNeighborsClassifier(n_neighbors=7, weights='distance', n_jobs=4)\n",
    "knn = knn.fit(X, Y)\n",
    "# prediction of labels for the test data\n",
    "knn_pred = knn.predict(x_test)\n",
    "acc_knn = round(Decimal(accuracy_score(y_test, knn_pred) * 100), 2)\n",
    "accuracy_list.append(acc_knn)\n",
    "model_list.append(\"KNN\")\n",
    "print(f\"Accuracy (KNN) : {acc_knn}%\")\n",
    "\n",
    "# Cross Validation Accuracy KNN\n",
    "# performing cross validation with 5 different splits\n",
    "scores_knn = cross_val_score(knn, X, Y, cv=5)\n",
    "# mean of cross val score (accuracy)\n",
    "score = round(Decimal(scores_knn.mean() * 100), 2)\n",
    "cross_accuracy_list.append(score)\n",
    "print(f\"Cross Validation Accuracy (KNN): {score}%\")"
   ]
  },
  {
   "cell_type": "markdown",
   "metadata": {
    "colab_type": "text",
    "id": "x4j2f2dH94dU"
   },
   "source": [
    "# **Logistic Regression Classifier**\n",
    "\n",
    "Logistic Regression uses OvR (One Vs Rest) approach when classification is multi class."
   ]
  },
  {
   "cell_type": "code",
   "execution_count": 9,
   "metadata": {
    "colab": {
     "base_uri": "https://localhost:8080/",
     "height": 50
    },
    "colab_type": "code",
    "id": "-ZBVt3BlmE7c",
    "outputId": "173b9591-29c3-4ad4-9139-1bcf2102b9e6"
   },
   "outputs": [
    {
     "name": "stdout",
     "output_type": "stream",
     "text": [
      "Accuracy (LR) : 91.52%\n",
      "Cross Validation Accuracy (LR): 89.19%\n"
     ]
    }
   ],
   "source": [
    "# LR Classifier\n",
    "lr = LogisticRegression()\n",
    "lr = lr.fit(X, Y)\n",
    "# prediction of labels for the test data\n",
    "lr_pred = lr.predict(x_test)\n",
    "acc_lr = round(Decimal(accuracy_score(y_test, lr_pred) * 100), 2)\n",
    "accuracy_list.append(acc_lr)\n",
    "model_list.append(\"LR\")\n",
    "print(f\"Accuracy (LR) : {acc_lr}%\")\n",
    "\n",
    "# Cross Validation Accuracy LR\n",
    "# performing cross validation with 5 different splits\n",
    "scores_lr = cross_val_score(lr, X, Y, cv=5)\n",
    "# mean of cross val score (accuracy)\n",
    "score = round(Decimal(scores_lr.mean() * 100), 2)\n",
    "cross_accuracy_list.append(score)\n",
    "print(f\"Cross Validation Accuracy (LR): {score}%\")"
   ]
  },
  {
   "cell_type": "markdown",
   "metadata": {
    "colab_type": "text",
    "id": "Zbz-aL_Q9_U0"
   },
   "source": [
    "# **Support Vector Machine Classifier**\n",
    "\n",
    "SVM follows OvO (One Vs One) scheme when dealing with multi class classification. SVM classifier works by drawing a straight line between two classes. All the data points that fall on one side of the line will be labeled as one class and all the points that fall on the other side will be labeled as the second. This seems simple for binary class but the complexity is increased when we have multiple classes. In our classification problem we have 261 classes (equal to diseases)."
   ]
  },
  {
   "cell_type": "code",
   "execution_count": 10,
   "metadata": {
    "colab": {
     "base_uri": "https://localhost:8080/",
     "height": 50
    },
    "colab_type": "code",
    "id": "JDSJc0RlmG-0",
    "outputId": "ee7dc68c-51a3-4630-ed30-9a421fb43ba4"
   },
   "outputs": [
    {
     "name": "stdout",
     "output_type": "stream",
     "text": [
      "Accuracy (SVM) : 91.06%\n",
      "Cross Validation Accuracy (SVM): 88.62%\n"
     ]
    }
   ],
   "source": [
    "# SVM Classifier\n",
    "svm = SVC()\n",
    "svm = svm.fit(X, Y)\n",
    "# prediction of labels for the test data\n",
    "svm_pred = svm.predict(x_test)\n",
    "acc_svm = round(Decimal(accuracy_score(y_test, svm_pred) * 100), 2)\n",
    "accuracy_list.append(acc_svm)\n",
    "model_list.append(\"SVM\")\n",
    "print(f\"Accuracy (SVM) : {acc_svm}%\")\n",
    "\n",
    "# Cross Validation Accuracy SVM\n",
    "# performing cross validation with 5 different splits\n",
    "scores_svm = cross_val_score(svm, X, Y, cv=5)\n",
    "# mean of cross val score (accuracy)\n",
    "score = round(Decimal(scores_svm.mean() * 100), 2)\n",
    "cross_accuracy_list.append(score)\n",
    "print(f\"Cross Validation Accuracy (SVM): {score}%\")"
   ]
  },
  {
   "cell_type": "markdown",
   "metadata": {
    "colab_type": "text",
    "id": "uUYxizhO-FtC"
   },
   "source": [
    "# **Decision Tree Classifier**\n",
    "\n",
    "DT is one of the easiest and popular classification algorithms to understand and interpret. It can be utilized for both classification and regression. DT follows a tree like structure to reach to a decision whether the given sample under consideration belong to which class."
   ]
  },
  {
   "cell_type": "code",
   "execution_count": 11,
   "metadata": {
    "colab": {
     "base_uri": "https://localhost:8080/",
     "height": 50
    },
    "colab_type": "code",
    "id": "CwFDYYBQmKAc",
    "outputId": "fca7c327-b54d-4ffb-9eb8-4711372773cb"
   },
   "outputs": [
    {
     "name": "stdout",
     "output_type": "stream",
     "text": [
      "Accuracy (DT) : 91.97%\n",
      "Cross Validation Accuracy (DT): 83.59%\n"
     ]
    }
   ],
   "source": [
    "# DT Classifier\n",
    "dt = DecisionTreeClassifier()\n",
    "dt = dt.fit(X, Y)\n",
    "# prediction of labels for the test data\n",
    "dt_pred = dt.predict(x_test)\n",
    "acc_dt = round(Decimal(accuracy_score(y_test, dt_pred) * 100), 2)\n",
    "accuracy_list.append(acc_dt)\n",
    "model_list.append(\"DT\")\n",
    "print(f\"Accuracy (DT) : {acc_dt}%\")\n",
    "\n",
    "# Cross Validation Accuracy DT\n",
    "# performing cross validation with 5 different splits\n",
    "scores_dt = cross_val_score(dt, X, Y, cv=5)\n",
    "# mean of cross val score (accuracy)\n",
    "score = round(Decimal(scores_dt.mean() * 100), 2)\n",
    "cross_accuracy_list.append(score)\n",
    "print(f\"Cross Validation Accuracy (DT): {score}%\")"
   ]
  },
  {
   "cell_type": "markdown",
   "metadata": {
    "colab_type": "text",
    "id": "2zI71-uw-JMq"
   },
   "source": [
    "# **Multilayer Perceptron Classifier**\n",
    "\n",
    "MLP is a feed forward ANN (Artificial Neural Network) which is extensively used for classification purpose."
   ]
  },
  {
   "cell_type": "code",
   "execution_count": 12,
   "metadata": {
    "colab": {
     "base_uri": "https://localhost:8080/",
     "height": 50
    },
    "colab_type": "code",
    "id": "nwVwjevImMQU",
    "outputId": "18989cdc-3840-47c7-92dd-f5775446042a"
   },
   "outputs": [
    {
     "name": "stdout",
     "output_type": "stream",
     "text": [
      "Accuracy (MLP) : 91.86%\n",
      "Cross Validation Accuracy (MLP): 87.15%\n"
     ]
    }
   ],
   "source": [
    "# MLP Classifier\n",
    "mlp = MLPClassifier(hidden_layer_sizes=(32, 32, 32), activation='relu', solver='adam', max_iter=50)\n",
    "mlp = mlp.fit(X, Y)\n",
    "# prediction of labels for the test data\n",
    "mlp_pred = mlp.predict(x_test)\n",
    "acc_mlp = round(Decimal(accuracy_score(y_test, mlp_pred) * 100), 2)\n",
    "accuracy_list.append(acc_mlp)\n",
    "model_list.append(\"MLP\")\n",
    "print(f\"Accuracy (MLP) : {acc_mlp}%\")\n",
    "\n",
    "# Cross Validation Accuracy MLP\n",
    "# performing cross validation with 5 different splits\n",
    "scores_mlp = cross_val_score(mlp, X, Y, cv=5)\n",
    "# mean of cross val score (accuracy)\n",
    "score = round(Decimal(scores_mlp.mean() * 100), 2)\n",
    "cross_accuracy_list.append(score)\n",
    "print(f\"Cross Validation Accuracy (MLP): {score}%\")"
   ]
  },
  {
   "cell_type": "markdown",
   "metadata": {},
   "source": [
    "## ANN\n"
   ]
  },
  {
   "cell_type": "code",
   "execution_count": 13,
   "metadata": {},
   "outputs": [
    {
     "name": "stdout",
     "output_type": "stream",
     "text": [
      "Epoch 1/100\n",
      "212/221 [===========================>..] - ETA: 0s - loss: 3.6203 - accuracy: 0.3166WARNING:tensorflow:Early stopping conditioned on metric `val_loss` which is not available. Available metrics are: loss,accuracy\n",
      "221/221 [==============================] - 2s 5ms/step - loss: 3.5866 - accuracy: 0.3224\n",
      "Epoch 2/100\n",
      "215/221 [============================>.] - ETA: 0s - loss: 2.3061 - accuracy: 0.5456WARNING:tensorflow:Early stopping conditioned on metric `val_loss` which is not available. Available metrics are: loss,accuracy\n",
      "221/221 [==============================] - 1s 4ms/step - loss: 2.2907 - accuracy: 0.5490\n",
      "Epoch 3/100\n",
      "215/221 [============================>.] - ETA: 0s - loss: 1.8520 - accuracy: 0.6267WARNING:tensorflow:Early stopping conditioned on metric `val_loss` which is not available. Available metrics are: loss,accuracy\n",
      "221/221 [==============================] - 1s 4ms/step - loss: 1.8442 - accuracy: 0.6278\n",
      "Epoch 4/100\n",
      "219/221 [============================>.] - ETA: 0s - loss: 1.5574 - accuracy: 0.6811WARNING:tensorflow:Early stopping conditioned on metric `val_loss` which is not available. Available metrics are: loss,accuracy\n",
      "221/221 [==============================] - 1s 4ms/step - loss: 1.5593 - accuracy: 0.6805\n",
      "Epoch 5/100\n",
      "218/221 [============================>.] - ETA: 0s - loss: 1.3436 - accuracy: 0.7218WARNING:tensorflow:Early stopping conditioned on metric `val_loss` which is not available. Available metrics are: loss,accuracy\n",
      "221/221 [==============================] - 1s 4ms/step - loss: 1.3424 - accuracy: 0.7218\n",
      "Epoch 6/100\n",
      "214/221 [============================>.] - ETA: 0s - loss: 1.2076 - accuracy: 0.7364WARNING:tensorflow:Early stopping conditioned on metric `val_loss` which is not available. Available metrics are: loss,accuracy\n",
      "221/221 [==============================] - 1s 4ms/step - loss: 1.2014 - accuracy: 0.7388\n",
      "Epoch 7/100\n",
      "211/221 [===========================>..] - ETA: 0s - loss: 1.0832 - accuracy: 0.7583WARNING:tensorflow:Early stopping conditioned on metric `val_loss` which is not available. Available metrics are: loss,accuracy\n",
      "221/221 [==============================] - 1s 4ms/step - loss: 1.0818 - accuracy: 0.7583\n",
      "Epoch 8/100\n",
      "214/221 [============================>.] - ETA: 0s - loss: 0.9784 - accuracy: 0.7848WARNING:tensorflow:Early stopping conditioned on metric `val_loss` which is not available. Available metrics are: loss,accuracy\n",
      "221/221 [==============================] - 1s 5ms/step - loss: 0.9733 - accuracy: 0.7865\n",
      "Epoch 9/100\n",
      "219/221 [============================>.] - ETA: 0s - loss: 0.9097 - accuracy: 0.7954WARNING:tensorflow:Early stopping conditioned on metric `val_loss` which is not available. Available metrics are: loss,accuracy\n",
      "221/221 [==============================] - 1s 5ms/step - loss: 0.9087 - accuracy: 0.7957\n",
      "Epoch 10/100\n",
      "213/221 [===========================>..] - ETA: 0s - loss: 0.8525 - accuracy: 0.8015WARNING:tensorflow:Early stopping conditioned on metric `val_loss` which is not available. Available metrics are: loss,accuracy\n",
      "221/221 [==============================] - 1s 5ms/step - loss: 0.8534 - accuracy: 0.8009\n",
      "Epoch 11/100\n",
      "216/221 [============================>.] - ETA: 0s - loss: 0.7991 - accuracy: 0.8077WARNING:tensorflow:Early stopping conditioned on metric `val_loss` which is not available. Available metrics are: loss,accuracy\n",
      "221/221 [==============================] - 1s 5ms/step - loss: 0.8018 - accuracy: 0.8070\n",
      "Epoch 12/100\n",
      "211/221 [===========================>..] - ETA: 0s - loss: 0.7634 - accuracy: 0.8196WARNING:tensorflow:Early stopping conditioned on metric `val_loss` which is not available. Available metrics are: loss,accuracy\n",
      "221/221 [==============================] - 1s 6ms/step - loss: 0.7604 - accuracy: 0.8202\n",
      "Epoch 13/100\n",
      "221/221 [==============================] - ETA: 0s - loss: 0.7267 - accuracy: 0.8236WARNING:tensorflow:Early stopping conditioned on metric `val_loss` which is not available. Available metrics are: loss,accuracy\n",
      "221/221 [==============================] - 1s 5ms/step - loss: 0.7267 - accuracy: 0.8236\n",
      "Epoch 14/100\n",
      "216/221 [============================>.] - ETA: 0s - loss: 0.7038 - accuracy: 0.8271WARNING:tensorflow:Early stopping conditioned on metric `val_loss` which is not available. Available metrics are: loss,accuracy\n",
      "221/221 [==============================] - 1s 5ms/step - loss: 0.7052 - accuracy: 0.8264\n",
      "Epoch 15/100\n",
      "216/221 [============================>.] - ETA: 0s - loss: 0.6575 - accuracy: 0.8371WARNING:tensorflow:Early stopping conditioned on metric `val_loss` which is not available. Available metrics are: loss,accuracy\n",
      "221/221 [==============================] - 1s 5ms/step - loss: 0.6597 - accuracy: 0.8376\n",
      "Epoch 16/100\n",
      "221/221 [==============================] - ETA: 0s - loss: 0.6313 - accuracy: 0.8410WARNING:tensorflow:Early stopping conditioned on metric `val_loss` which is not available. Available metrics are: loss,accuracy\n",
      "221/221 [==============================] - 1s 5ms/step - loss: 0.6313 - accuracy: 0.8410\n",
      "Epoch 17/100\n",
      "214/221 [============================>.] - ETA: 0s - loss: 0.6291 - accuracy: 0.8421WARNING:tensorflow:Early stopping conditioned on metric `val_loss` which is not available. Available metrics are: loss,accuracy\n",
      "221/221 [==============================] - 1s 4ms/step - loss: 0.6254 - accuracy: 0.8432\n",
      "Epoch 18/100\n",
      "211/221 [===========================>..] - ETA: 0s - loss: 0.6219 - accuracy: 0.8415WARNING:tensorflow:Early stopping conditioned on metric `val_loss` which is not available. Available metrics are: loss,accuracy\n",
      "221/221 [==============================] - 1s 4ms/step - loss: 0.6126 - accuracy: 0.8439\n",
      "Epoch 19/100\n",
      "206/221 [==========================>...] - ETA: 0s - loss: 0.5780 - accuracy: 0.8503WARNING:tensorflow:Early stopping conditioned on metric `val_loss` which is not available. Available metrics are: loss,accuracy\n",
      "221/221 [==============================] - 1s 5ms/step - loss: 0.5767 - accuracy: 0.8507\n",
      "Epoch 20/100\n",
      "219/221 [============================>.] - ETA: 0s - loss: 0.5557 - accuracy: 0.8539WARNING:tensorflow:Early stopping conditioned on metric `val_loss` which is not available. Available metrics are: loss,accuracy\n",
      "221/221 [==============================] - 1s 4ms/step - loss: 0.5588 - accuracy: 0.8531\n",
      "Epoch 21/100\n",
      "214/221 [============================>.] - ETA: 0s - loss: 0.5587 - accuracy: 0.8563WARNING:tensorflow:Early stopping conditioned on metric `val_loss` which is not available. Available metrics are: loss,accuracy\n",
      "221/221 [==============================] - 1s 5ms/step - loss: 0.5565 - accuracy: 0.8564\n",
      "Epoch 22/100\n",
      "208/221 [===========================>..] - ETA: 0s - loss: 0.5404 - accuracy: 0.8577WARNING:tensorflow:Early stopping conditioned on metric `val_loss` which is not available. Available metrics are: loss,accuracy\n",
      "221/221 [==============================] - 1s 4ms/step - loss: 0.5542 - accuracy: 0.8550\n",
      "Epoch 23/100\n",
      "209/221 [===========================>..] - ETA: 0s - loss: 0.5543 - accuracy: 0.8533WARNING:tensorflow:Early stopping conditioned on metric `val_loss` which is not available. Available metrics are: loss,accuracy\n",
      "221/221 [==============================] - 1s 4ms/step - loss: 0.5507 - accuracy: 0.8546\n",
      "Epoch 24/100\n",
      "213/221 [===========================>..] - ETA: 0s - loss: 0.5232 - accuracy: 0.8624WARNING:tensorflow:Early stopping conditioned on metric `val_loss` which is not available. Available metrics are: loss,accuracy\n",
      "221/221 [==============================] - 1s 4ms/step - loss: 0.5312 - accuracy: 0.8604\n",
      "Epoch 25/100\n",
      "220/221 [============================>.] - ETA: 0s - loss: 0.5165 - accuracy: 0.8607WARNING:tensorflow:Early stopping conditioned on metric `val_loss` which is not available. Available metrics are: loss,accuracy\n",
      "221/221 [==============================] - 1s 4ms/step - loss: 0.5175 - accuracy: 0.8605\n",
      "Epoch 26/100\n",
      "209/221 [===========================>..] - ETA: 0s - loss: 0.5084 - accuracy: 0.8647WARNING:tensorflow:Early stopping conditioned on metric `val_loss` which is not available. Available metrics are: loss,accuracy\n",
      "221/221 [==============================] - 1s 4ms/step - loss: 0.5059 - accuracy: 0.8652\n",
      "Epoch 27/100\n"
     ]
    },
    {
     "name": "stdout",
     "output_type": "stream",
     "text": [
      "219/221 [============================>.] - ETA: 0s - loss: 0.4936 - accuracy: 0.8670WARNING:tensorflow:Early stopping conditioned on metric `val_loss` which is not available. Available metrics are: loss,accuracy\n",
      "221/221 [==============================] - 1s 4ms/step - loss: 0.4930 - accuracy: 0.8671\n",
      "Epoch 28/100\n",
      "212/221 [===========================>..] - ETA: 0s - loss: 0.4977 - accuracy: 0.8644WARNING:tensorflow:Early stopping conditioned on metric `val_loss` which is not available. Available metrics are: loss,accuracy\n",
      "221/221 [==============================] - 1s 5ms/step - loss: 0.4948 - accuracy: 0.8654\n",
      "Epoch 29/100\n",
      "214/221 [============================>.] - ETA: 0s - loss: 0.4909 - accuracy: 0.8639WARNING:tensorflow:Early stopping conditioned on metric `val_loss` which is not available. Available metrics are: loss,accuracy\n",
      "221/221 [==============================] - 1s 4ms/step - loss: 0.4914 - accuracy: 0.8640\n",
      "Epoch 30/100\n",
      "216/221 [============================>.] - ETA: 0s - loss: 0.4891 - accuracy: 0.8644WARNING:tensorflow:Early stopping conditioned on metric `val_loss` which is not available. Available metrics are: loss,accuracy\n",
      "221/221 [==============================] - 1s 4ms/step - loss: 0.4887 - accuracy: 0.8646\n",
      "Epoch 31/100\n",
      "207/221 [===========================>..] - ETA: 0s - loss: 0.4838 - accuracy: 0.8676WARNING:tensorflow:Early stopping conditioned on metric `val_loss` which is not available. Available metrics are: loss,accuracy\n",
      "221/221 [==============================] - 1s 4ms/step - loss: 0.4809 - accuracy: 0.8679\n",
      "Epoch 32/100\n",
      "213/221 [===========================>..] - ETA: 0s - loss: 0.4708 - accuracy: 0.8672WARNING:tensorflow:Early stopping conditioned on metric `val_loss` which is not available. Available metrics are: loss,accuracy\n",
      "221/221 [==============================] - 1s 4ms/step - loss: 0.4744 - accuracy: 0.8663\n",
      "Epoch 33/100\n",
      "206/221 [==========================>...] - ETA: 0s - loss: 0.4675 - accuracy: 0.8732WARNING:tensorflow:Early stopping conditioned on metric `val_loss` which is not available. Available metrics are: loss,accuracy\n",
      "221/221 [==============================] - 1s 4ms/step - loss: 0.4682 - accuracy: 0.8738\n",
      "Epoch 34/100\n",
      "213/221 [===========================>..] - ETA: 0s - loss: 0.4720 - accuracy: 0.8683WARNING:tensorflow:Early stopping conditioned on metric `val_loss` which is not available. Available metrics are: loss,accuracy\n",
      "221/221 [==============================] - 1s 4ms/step - loss: 0.4676 - accuracy: 0.8690\n",
      "Epoch 35/100\n",
      "221/221 [==============================] - ETA: 0s - loss: 0.4525 - accuracy: 0.8729WARNING:tensorflow:Early stopping conditioned on metric `val_loss` which is not available. Available metrics are: loss,accuracy\n",
      "221/221 [==============================] - 1s 4ms/step - loss: 0.4525 - accuracy: 0.8729\n",
      "Epoch 36/100\n",
      "208/221 [===========================>..] - ETA: 0s - loss: 0.4568 - accuracy: 0.8705WARNING:tensorflow:Early stopping conditioned on metric `val_loss` which is not available. Available metrics are: loss,accuracy\n",
      "221/221 [==============================] - 1s 4ms/step - loss: 0.4587 - accuracy: 0.8698\n",
      "Epoch 37/100\n",
      "216/221 [============================>.] - ETA: 0s - loss: 0.4527 - accuracy: 0.8738WARNING:tensorflow:Early stopping conditioned on metric `val_loss` which is not available. Available metrics are: loss,accuracy\n",
      "221/221 [==============================] - 1s 4ms/step - loss: 0.4510 - accuracy: 0.8746\n",
      "Epoch 38/100\n",
      "217/221 [============================>.] - ETA: 0s - loss: 0.4340 - accuracy: 0.8750WARNING:tensorflow:Early stopping conditioned on metric `val_loss` which is not available. Available metrics are: loss,accuracy\n",
      "221/221 [==============================] - 1s 4ms/step - loss: 0.4338 - accuracy: 0.8748\n",
      "Epoch 39/100\n",
      "207/221 [===========================>..] - ETA: 0s - loss: 0.4411 - accuracy: 0.8750WARNING:tensorflow:Early stopping conditioned on metric `val_loss` which is not available. Available metrics are: loss,accuracy\n",
      "221/221 [==============================] - 1s 4ms/step - loss: 0.4440 - accuracy: 0.8731\n",
      "Epoch 40/100\n",
      "213/221 [===========================>..] - ETA: 0s - loss: 0.4310 - accuracy: 0.8773WARNING:tensorflow:Early stopping conditioned on metric `val_loss` which is not available. Available metrics are: loss,accuracy\n",
      "221/221 [==============================] - 1s 4ms/step - loss: 0.4336 - accuracy: 0.8765\n",
      "Epoch 41/100\n",
      "216/221 [============================>.] - ETA: 0s - loss: 0.4370 - accuracy: 0.8734WARNING:tensorflow:Early stopping conditioned on metric `val_loss` which is not available. Available metrics are: loss,accuracy\n",
      "221/221 [==============================] - 1s 4ms/step - loss: 0.4376 - accuracy: 0.8731\n",
      "Epoch 42/100\n",
      "221/221 [==============================] - ETA: 0s - loss: 0.4349 - accuracy: 0.8741WARNING:tensorflow:Early stopping conditioned on metric `val_loss` which is not available. Available metrics are: loss,accuracy\n",
      "221/221 [==============================] - 1s 4ms/step - loss: 0.4349 - accuracy: 0.8741\n",
      "Epoch 43/100\n",
      "215/221 [============================>.] - ETA: 0s - loss: 0.4392 - accuracy: 0.8709WARNING:tensorflow:Early stopping conditioned on metric `val_loss` which is not available. Available metrics are: loss,accuracy\n",
      "221/221 [==============================] - 1s 4ms/step - loss: 0.4365 - accuracy: 0.8717\n",
      "Epoch 44/100\n",
      "217/221 [============================>.] - ETA: 0s - loss: 0.4227 - accuracy: 0.8760WARNING:tensorflow:Early stopping conditioned on metric `val_loss` which is not available. Available metrics are: loss,accuracy\n",
      "221/221 [==============================] - 1s 4ms/step - loss: 0.4243 - accuracy: 0.8756\n",
      "Epoch 45/100\n",
      "221/221 [==============================] - ETA: 0s - loss: 0.4213 - accuracy: 0.8790WARNING:tensorflow:Early stopping conditioned on metric `val_loss` which is not available. Available metrics are: loss,accuracy\n",
      "221/221 [==============================] - 1s 4ms/step - loss: 0.4213 - accuracy: 0.8790\n",
      "Epoch 46/100\n",
      "219/221 [============================>.] - ETA: 0s - loss: 0.4217 - accuracy: 0.8804WARNING:tensorflow:Early stopping conditioned on metric `val_loss` which is not available. Available metrics are: loss,accuracy\n",
      "221/221 [==============================] - 1s 4ms/step - loss: 0.4235 - accuracy: 0.8799\n",
      "Epoch 47/100\n",
      "210/221 [===========================>..] - ETA: 0s - loss: 0.4226 - accuracy: 0.8778WARNING:tensorflow:Early stopping conditioned on metric `val_loss` which is not available. Available metrics are: loss,accuracy\n",
      "221/221 [==============================] - 1s 4ms/step - loss: 0.4201 - accuracy: 0.8779\n",
      "Epoch 48/100\n",
      "218/221 [============================>.] - ETA: 0s - loss: 0.4106 - accuracy: 0.8772WARNING:tensorflow:Early stopping conditioned on metric `val_loss` which is not available. Available metrics are: loss,accuracy\n",
      "221/221 [==============================] - 1s 4ms/step - loss: 0.4098 - accuracy: 0.8773\n",
      "Epoch 49/100\n",
      "221/221 [==============================] - ETA: 0s - loss: 0.4051 - accuracy: 0.8780WARNING:tensorflow:Early stopping conditioned on metric `val_loss` which is not available. Available metrics are: loss,accuracy\n",
      "221/221 [==============================] - 1s 4ms/step - loss: 0.4051 - accuracy: 0.8780\n",
      "Epoch 50/100\n",
      "219/221 [============================>.] - ETA: 0s - loss: 0.4059 - accuracy: 0.8804WARNING:tensorflow:Early stopping conditioned on metric `val_loss` which is not available. Available metrics are: loss,accuracy\n",
      "221/221 [==============================] - 1s 4ms/step - loss: 0.4067 - accuracy: 0.8804\n",
      "Epoch 51/100\n",
      "210/221 [===========================>..] - ETA: 0s - loss: 0.4118 - accuracy: 0.8780WARNING:tensorflow:Early stopping conditioned on metric `val_loss` which is not available. Available metrics are: loss,accuracy\n",
      "221/221 [==============================] - 1s 5ms/step - loss: 0.4123 - accuracy: 0.8782\n",
      "Epoch 52/100\n",
      "219/221 [============================>.] - ETA: 0s - loss: 0.4002 - accuracy: 0.8813WARNING:tensorflow:Early stopping conditioned on metric `val_loss` which is not available. Available metrics are: loss,accuracy\n",
      "221/221 [==============================] - 1s 5ms/step - loss: 0.4005 - accuracy: 0.8813\n",
      "Epoch 53/100\n"
     ]
    },
    {
     "name": "stdout",
     "output_type": "stream",
     "text": [
      "221/221 [==============================] - ETA: 0s - loss: 0.4068 - accuracy: 0.8823WARNING:tensorflow:Early stopping conditioned on metric `val_loss` which is not available. Available metrics are: loss,accuracy\n",
      "221/221 [==============================] - 1s 5ms/step - loss: 0.4068 - accuracy: 0.8823\n",
      "Epoch 54/100\n",
      "215/221 [============================>.] - ETA: 0s - loss: 0.4075 - accuracy: 0.8810WARNING:tensorflow:Early stopping conditioned on metric `val_loss` which is not available. Available metrics are: loss,accuracy\n",
      "221/221 [==============================] - 1s 5ms/step - loss: 0.4088 - accuracy: 0.8802\n",
      "Epoch 55/100\n",
      "220/221 [============================>.] - ETA: 0s - loss: 0.3894 - accuracy: 0.8851WARNING:tensorflow:Early stopping conditioned on metric `val_loss` which is not available. Available metrics are: loss,accuracy\n",
      "221/221 [==============================] - 1s 5ms/step - loss: 0.3894 - accuracy: 0.8853\n",
      "Epoch 56/100\n",
      "217/221 [============================>.] - ETA: 0s - loss: 0.4024 - accuracy: 0.8796WARNING:tensorflow:Early stopping conditioned on metric `val_loss` which is not available. Available metrics are: loss,accuracy\n",
      "221/221 [==============================] - 1s 4ms/step - loss: 0.4005 - accuracy: 0.8806\n",
      "Epoch 57/100\n",
      "219/221 [============================>.] - ETA: 0s - loss: 0.3985 - accuracy: 0.8826WARNING:tensorflow:Early stopping conditioned on metric `val_loss` which is not available. Available metrics are: loss,accuracy\n",
      "221/221 [==============================] - 1s 5ms/step - loss: 0.3976 - accuracy: 0.8827\n",
      "Epoch 58/100\n",
      "213/221 [===========================>..] - ETA: 0s - loss: 0.3998 - accuracy: 0.8834WARNING:tensorflow:Early stopping conditioned on metric `val_loss` which is not available. Available metrics are: loss,accuracy\n",
      "221/221 [==============================] - 1s 4ms/step - loss: 0.4013 - accuracy: 0.8830\n",
      "Epoch 59/100\n",
      "211/221 [===========================>..] - ETA: 0s - loss: 0.3937 - accuracy: 0.8834WARNING:tensorflow:Early stopping conditioned on metric `val_loss` which is not available. Available metrics are: loss,accuracy\n",
      "221/221 [==============================] - 1s 4ms/step - loss: 0.3973 - accuracy: 0.8827\n",
      "Epoch 60/100\n",
      "211/221 [===========================>..] - ETA: 0s - loss: 0.3799 - accuracy: 0.8882WARNING:tensorflow:Early stopping conditioned on metric `val_loss` which is not available. Available metrics are: loss,accuracy\n",
      "221/221 [==============================] - 1s 4ms/step - loss: 0.3829 - accuracy: 0.8881\n",
      "Epoch 61/100\n",
      "210/221 [===========================>..] - ETA: 0s - loss: 0.3908 - accuracy: 0.8857WARNING:tensorflow:Early stopping conditioned on metric `val_loss` which is not available. Available metrics are: loss,accuracy\n",
      "221/221 [==============================] - 1s 4ms/step - loss: 0.3947 - accuracy: 0.8841\n",
      "Epoch 62/100\n",
      "217/221 [============================>.] - ETA: 0s - loss: 0.3931 - accuracy: 0.8835WARNING:tensorflow:Early stopping conditioned on metric `val_loss` which is not available. Available metrics are: loss,accuracy\n",
      "221/221 [==============================] - 1s 4ms/step - loss: 0.3900 - accuracy: 0.8843\n",
      "Epoch 63/100\n",
      "216/221 [============================>.] - ETA: 0s - loss: 0.3902 - accuracy: 0.8822WARNING:tensorflow:Early stopping conditioned on metric `val_loss` which is not available. Available metrics are: loss,accuracy\n",
      "221/221 [==============================] - 1s 4ms/step - loss: 0.3900 - accuracy: 0.8823\n",
      "Epoch 64/100\n",
      "215/221 [============================>.] - ETA: 0s - loss: 0.3838 - accuracy: 0.8847WARNING:tensorflow:Early stopping conditioned on metric `val_loss` which is not available. Available metrics are: loss,accuracy\n",
      "221/221 [==============================] - 1s 4ms/step - loss: 0.3822 - accuracy: 0.8851\n",
      "Epoch 65/100\n",
      "221/221 [==============================] - ETA: 0s - loss: 0.3873 - accuracy: 0.8847WARNING:tensorflow:Early stopping conditioned on metric `val_loss` which is not available. Available metrics are: loss,accuracy\n",
      "221/221 [==============================] - 1s 4ms/step - loss: 0.3873 - accuracy: 0.8847\n",
      "Epoch 66/100\n",
      "221/221 [==============================] - ETA: 0s - loss: 0.3971 - accuracy: 0.8851WARNING:tensorflow:Early stopping conditioned on metric `val_loss` which is not available. Available metrics are: loss,accuracy\n",
      "221/221 [==============================] - 1s 4ms/step - loss: 0.3971 - accuracy: 0.8851\n",
      "Epoch 67/100\n",
      "216/221 [============================>.] - ETA: 0s - loss: 0.3823 - accuracy: 0.8866WARNING:tensorflow:Early stopping conditioned on metric `val_loss` which is not available. Available metrics are: loss,accuracy\n",
      "221/221 [==============================] - 1s 4ms/step - loss: 0.3840 - accuracy: 0.8861\n",
      "Epoch 68/100\n",
      "211/221 [===========================>..] - ETA: 0s - loss: 0.3789 - accuracy: 0.8854WARNING:tensorflow:Early stopping conditioned on metric `val_loss` which is not available. Available metrics are: loss,accuracy\n",
      "221/221 [==============================] - 1s 4ms/step - loss: 0.3796 - accuracy: 0.8848\n",
      "Epoch 69/100\n",
      "214/221 [============================>.] - ETA: 0s - loss: 0.3890 - accuracy: 0.8816WARNING:tensorflow:Early stopping conditioned on metric `val_loss` which is not available. Available metrics are: loss,accuracy\n",
      "221/221 [==============================] - 1s 4ms/step - loss: 0.3916 - accuracy: 0.8806\n",
      "Epoch 70/100\n",
      "219/221 [============================>.] - ETA: 0s - loss: 0.3784 - accuracy: 0.8871WARNING:tensorflow:Early stopping conditioned on metric `val_loss` which is not available. Available metrics are: loss,accuracy\n",
      "221/221 [==============================] - 1s 4ms/step - loss: 0.3792 - accuracy: 0.8871\n",
      "Epoch 71/100\n",
      "206/221 [==========================>...] - ETA: 0s - loss: 0.3698 - accuracy: 0.8883WARNING:tensorflow:Early stopping conditioned on metric `val_loss` which is not available. Available metrics are: loss,accuracy\n",
      "221/221 [==============================] - 1s 4ms/step - loss: 0.3702 - accuracy: 0.8884\n",
      "Epoch 72/100\n",
      "221/221 [==============================] - ETA: 0s - loss: 0.3754 - accuracy: 0.8888WARNING:tensorflow:Early stopping conditioned on metric `val_loss` which is not available. Available metrics are: loss,accuracy\n",
      "221/221 [==============================] - 1s 4ms/step - loss: 0.3754 - accuracy: 0.8888\n",
      "Epoch 73/100\n",
      "209/221 [===========================>..] - ETA: 0s - loss: 0.3923 - accuracy: 0.8807WARNING:tensorflow:Early stopping conditioned on metric `val_loss` which is not available. Available metrics are: loss,accuracy\n",
      "221/221 [==============================] - 1s 4ms/step - loss: 0.3870 - accuracy: 0.8826\n",
      "Epoch 74/100\n",
      "216/221 [============================>.] - ETA: 0s - loss: 0.3898 - accuracy: 0.8811WARNING:tensorflow:Early stopping conditioned on metric `val_loss` which is not available. Available metrics are: loss,accuracy\n",
      "221/221 [==============================] - 1s 4ms/step - loss: 0.3882 - accuracy: 0.8817\n",
      "Epoch 75/100\n",
      "218/221 [============================>.] - ETA: 0s - loss: 0.3720 - accuracy: 0.8865WARNING:tensorflow:Early stopping conditioned on metric `val_loss` which is not available. Available metrics are: loss,accuracy\n",
      "221/221 [==============================] - 1s 5ms/step - loss: 0.3708 - accuracy: 0.8867\n",
      "Epoch 76/100\n",
      "215/221 [============================>.] - ETA: 0s - loss: 0.3778 - accuracy: 0.8862WARNING:tensorflow:Early stopping conditioned on metric `val_loss` which is not available. Available metrics are: loss,accuracy\n",
      "221/221 [==============================] - 1s 4ms/step - loss: 0.3773 - accuracy: 0.8865\n",
      "Epoch 77/100\n",
      "221/221 [==============================] - ETA: 0s - loss: 0.3772 - accuracy: 0.8884WARNING:tensorflow:Early stopping conditioned on metric `val_loss` which is not available. Available metrics are: loss,accuracy\n",
      "221/221 [==============================] - 1s 5ms/step - loss: 0.3772 - accuracy: 0.8884\n",
      "Epoch 78/100\n",
      "218/221 [============================>.] - ETA: 0s - loss: 0.3723 - accuracy: 0.8847WARNING:tensorflow:Early stopping conditioned on metric `val_loss` which is not available. Available metrics are: loss,accuracy\n",
      "221/221 [==============================] - 1s 4ms/step - loss: 0.3727 - accuracy: 0.8847\n",
      "Epoch 79/100\n"
     ]
    },
    {
     "name": "stdout",
     "output_type": "stream",
     "text": [
      "211/221 [===========================>..] - ETA: 0s - loss: 0.3816 - accuracy: 0.8831WARNING:tensorflow:Early stopping conditioned on metric `val_loss` which is not available. Available metrics are: loss,accuracy\n",
      "221/221 [==============================] - 1s 5ms/step - loss: 0.3809 - accuracy: 0.8830\n",
      "Epoch 80/100\n",
      "208/221 [===========================>..] - ETA: 0s - loss: 0.3800 - accuracy: 0.8837WARNING:tensorflow:Early stopping conditioned on metric `val_loss` which is not available. Available metrics are: loss,accuracy\n",
      "221/221 [==============================] - 1s 4ms/step - loss: 0.3731 - accuracy: 0.8862\n",
      "Epoch 81/100\n",
      "208/221 [===========================>..] - ETA: 0s - loss: 0.3597 - accuracy: 0.8917WARNING:tensorflow:Early stopping conditioned on metric `val_loss` which is not available. Available metrics are: loss,accuracy\n",
      "221/221 [==============================] - 1s 4ms/step - loss: 0.3612 - accuracy: 0.8908\n",
      "Epoch 82/100\n",
      "208/221 [===========================>..] - ETA: 0s - loss: 0.3672 - accuracy: 0.8885WARNING:tensorflow:Early stopping conditioned on metric `val_loss` which is not available. Available metrics are: loss,accuracy\n",
      "221/221 [==============================] - 1s 4ms/step - loss: 0.3736 - accuracy: 0.8877\n",
      "Epoch 83/100\n",
      "215/221 [============================>.] - ETA: 0s - loss: 0.3675 - accuracy: 0.8869WARNING:tensorflow:Early stopping conditioned on metric `val_loss` which is not available. Available metrics are: loss,accuracy\n",
      "221/221 [==============================] - 1s 4ms/step - loss: 0.3695 - accuracy: 0.8861\n",
      "Epoch 84/100\n",
      "215/221 [============================>.] - ETA: 0s - loss: 0.3637 - accuracy: 0.8900WARNING:tensorflow:Early stopping conditioned on metric `val_loss` which is not available. Available metrics are: loss,accuracy\n",
      "221/221 [==============================] - 1s 4ms/step - loss: 0.3656 - accuracy: 0.8888\n",
      "Epoch 85/100\n",
      "210/221 [===========================>..] - ETA: 0s - loss: 0.3762 - accuracy: 0.8876WARNING:tensorflow:Early stopping conditioned on metric `val_loss` which is not available. Available metrics are: loss,accuracy\n",
      "221/221 [==============================] - 1s 4ms/step - loss: 0.3765 - accuracy: 0.8881\n",
      "Epoch 86/100\n",
      "219/221 [============================>.] - ETA: 0s - loss: 0.3587 - accuracy: 0.8918WARNING:tensorflow:Early stopping conditioned on metric `val_loss` which is not available. Available metrics are: loss,accuracy\n",
      "221/221 [==============================] - 1s 4ms/step - loss: 0.3602 - accuracy: 0.8911\n",
      "Epoch 87/100\n",
      "217/221 [============================>.] - ETA: 0s - loss: 0.3807 - accuracy: 0.8867WARNING:tensorflow:Early stopping conditioned on metric `val_loss` which is not available. Available metrics are: loss,accuracy\n",
      "221/221 [==============================] - 1s 4ms/step - loss: 0.3781 - accuracy: 0.8872\n",
      "Epoch 88/100\n",
      "220/221 [============================>.] - ETA: 0s - loss: 0.3605 - accuracy: 0.8855WARNING:tensorflow:Early stopping conditioned on metric `val_loss` which is not available. Available metrics are: loss,accuracy\n",
      "221/221 [==============================] - 1s 5ms/step - loss: 0.3636 - accuracy: 0.8850\n",
      "Epoch 89/100\n",
      "219/221 [============================>.] - ETA: 0s - loss: 0.3626 - accuracy: 0.8917WARNING:tensorflow:Early stopping conditioned on metric `val_loss` which is not available. Available metrics are: loss,accuracy\n",
      "221/221 [==============================] - 1s 4ms/step - loss: 0.3623 - accuracy: 0.8918\n",
      "Epoch 90/100\n",
      "213/221 [===========================>..] - ETA: 0s - loss: 0.3552 - accuracy: 0.8901WARNING:tensorflow:Early stopping conditioned on metric `val_loss` which is not available. Available metrics are: loss,accuracy\n",
      "221/221 [==============================] - 1s 4ms/step - loss: 0.3554 - accuracy: 0.8898\n",
      "Epoch 91/100\n",
      "220/221 [============================>.] - ETA: 0s - loss: 0.3581 - accuracy: 0.8871WARNING:tensorflow:Early stopping conditioned on metric `val_loss` which is not available. Available metrics are: loss,accuracy\n",
      "221/221 [==============================] - 1s 4ms/step - loss: 0.3601 - accuracy: 0.8865\n",
      "Epoch 92/100\n",
      "211/221 [===========================>..] - ETA: 0s - loss: 0.3538 - accuracy: 0.8944WARNING:tensorflow:Early stopping conditioned on metric `val_loss` which is not available. Available metrics are: loss,accuracy\n",
      "221/221 [==============================] - 1s 4ms/step - loss: 0.3599 - accuracy: 0.8916\n",
      "Epoch 93/100\n",
      "210/221 [===========================>..] - ETA: 0s - loss: 0.3705 - accuracy: 0.8871WARNING:tensorflow:Early stopping conditioned on metric `val_loss` which is not available. Available metrics are: loss,accuracy\n",
      "221/221 [==============================] - 1s 4ms/step - loss: 0.3694 - accuracy: 0.8875\n",
      "Epoch 94/100\n",
      "211/221 [===========================>..] - ETA: 0s - loss: 0.3713 - accuracy: 0.8888WARNING:tensorflow:Early stopping conditioned on metric `val_loss` which is not available. Available metrics are: loss,accuracy\n",
      "221/221 [==============================] - 1s 4ms/step - loss: 0.3699 - accuracy: 0.8888\n",
      "Epoch 95/100\n",
      "214/221 [============================>.] - ETA: 0s - loss: 0.3704 - accuracy: 0.8845WARNING:tensorflow:Early stopping conditioned on metric `val_loss` which is not available. Available metrics are: loss,accuracy\n",
      "221/221 [==============================] - 1s 4ms/step - loss: 0.3680 - accuracy: 0.8853\n",
      "Epoch 96/100\n",
      "218/221 [============================>.] - ETA: 0s - loss: 0.3594 - accuracy: 0.8880WARNING:tensorflow:Early stopping conditioned on metric `val_loss` which is not available. Available metrics are: loss,accuracy\n",
      "221/221 [==============================] - 1s 5ms/step - loss: 0.3607 - accuracy: 0.8875\n",
      "Epoch 97/100\n",
      "219/221 [============================>.] - ETA: 0s - loss: 0.3532 - accuracy: 0.8891WARNING:tensorflow:Early stopping conditioned on metric `val_loss` which is not available. Available metrics are: loss,accuracy\n",
      "221/221 [==============================] - 1s 5ms/step - loss: 0.3531 - accuracy: 0.8892\n",
      "Epoch 98/100\n",
      "212/221 [===========================>..] - ETA: 0s - loss: 0.3666 - accuracy: 0.8871WARNING:tensorflow:Early stopping conditioned on metric `val_loss` which is not available. Available metrics are: loss,accuracy\n",
      "221/221 [==============================] - 1s 5ms/step - loss: 0.3653 - accuracy: 0.8879\n",
      "Epoch 99/100\n",
      "220/221 [============================>.] - ETA: 0s - loss: 0.3593 - accuracy: 0.8858WARNING:tensorflow:Early stopping conditioned on metric `val_loss` which is not available. Available metrics are: loss,accuracy\n",
      "221/221 [==============================] - 1s 4ms/step - loss: 0.3601 - accuracy: 0.8855\n",
      "Epoch 100/100\n",
      "214/221 [============================>.] - ETA: 0s - loss: 0.3609 - accuracy: 0.8909WARNING:tensorflow:Early stopping conditioned on metric `val_loss` which is not available. Available metrics are: loss,accuracy\n",
      "221/221 [==============================] - 1s 5ms/step - loss: 0.3606 - accuracy: 0.8915\n",
      "56/56 [==============================] - 1s 4ms/step - loss: 0.4421 - accuracy: 0.8846\n",
      "Test loss: 0.4421026408672333\n",
      "Test accuracy: 0.8845500946044922\n"
     ]
    }
   ],
   "source": [
    "import pandas as pd\n",
    "import numpy as np\n",
    "from sklearn.model_selection import train_test_split\n",
    "from keras.models import Sequential\n",
    "from keras.layers import Dense, Dropout\n",
    "from keras.optimizers import Adam\n",
    "from keras.callbacks import EarlyStopping\n",
    "\n",
    "# Load the dataset\n",
    "data = pd.read_csv('Dataset/dis_sym_dataset_comb.csv')\n",
    "\n",
    "# Convert the categorical target variable to numerical using label encoding\n",
    "data['label_dis'] = pd.factorize(data['label_dis'])[0]\n",
    "\n",
    "# Separate the features and target variable\n",
    "X = data.iloc[:, 1:]\n",
    "y = data.iloc[:, 0:1]\n",
    "\n",
    "# Convert the features to one-hot encoding\n",
    "X = pd.get_dummies(X)\n",
    "\n",
    "# Split the dataset into training and testing sets\n",
    "X_train, X_test, y_train, y_test = train_test_split(X, y, test_size=0.2, random_state=42)\n",
    "\n",
    "# Define the neural network architecture\n",
    "model = Sequential()\n",
    "model.add(Dense(128, input_dim=X.shape[1], activation='relu'))\n",
    "model.add(Dropout(0.455))\n",
    "model.add(Dense(64, activation='relu'))\n",
    "model.add(Dropout(0.455))\n",
    "model.add(Dense(np.max(y)+1, activation='softmax'))\n",
    "\n",
    "# Compile the model\n",
    "model.compile(loss='sparse_categorical_crossentropy', optimizer=Adam(lr=0.001), metrics=['accuracy'])\n",
    "\n",
    "# Define early stopping\n",
    "early_stopping = EarlyStopping(monitor='val_loss', patience=10)\n",
    "\n",
    "# Train the model\n",
    "history = model.fit(X_train, y_train,epochs=100, batch_size=32, verbose=1, callbacks=[early_stopping])\n",
    "\n",
    "# Evaluate the model on the testing set\n",
    "score = model.evaluate(X_test, y_test, verbose=1)\n",
    "print('Test loss:', score[0])\n",
    "print('Test accuracy:', score[1])"
   ]
  },
  {
   "cell_type": "code",
   "execution_count": 19,
   "metadata": {},
   "outputs": [
    {
     "ename": "TypeError",
     "evalue": "If no scoring is specified, the estimator passed should have a 'score' method. The estimator <keras.engine.sequential.Sequential object at 0x00000220635C2FA0> does not.",
     "output_type": "error",
     "traceback": [
      "\u001b[1;31m---------------------------------------------------------------------------\u001b[0m",
      "\u001b[1;31mTypeError\u001b[0m                                 Traceback (most recent call last)",
      "\u001b[1;32m~\\AppData\\Local\\Temp\\ipykernel_6040\\710770698.py\u001b[0m in \u001b[0;36m<module>\u001b[1;34m\u001b[0m\n\u001b[0;32m      1\u001b[0m \u001b[1;31m# Cross Validation Accuracy MLP\u001b[0m\u001b[1;33m\u001b[0m\u001b[1;33m\u001b[0m\u001b[0m\n\u001b[0;32m      2\u001b[0m \u001b[1;31m# performing cross validation with 5 different splits\u001b[0m\u001b[1;33m\u001b[0m\u001b[1;33m\u001b[0m\u001b[0m\n\u001b[1;32m----> 3\u001b[1;33m \u001b[0mscore\u001b[0m \u001b[1;33m=\u001b[0m \u001b[0mcross_val_score\u001b[0m\u001b[1;33m(\u001b[0m\u001b[0mmodel\u001b[0m\u001b[1;33m,\u001b[0m \u001b[0mX\u001b[0m\u001b[1;33m,\u001b[0m \u001b[0mY\u001b[0m\u001b[1;33m,\u001b[0m \u001b[0mcv\u001b[0m\u001b[1;33m=\u001b[0m\u001b[1;36m5\u001b[0m\u001b[1;33m)\u001b[0m\u001b[1;33m\u001b[0m\u001b[1;33m\u001b[0m\u001b[0m\n\u001b[0m\u001b[0;32m      4\u001b[0m \u001b[1;31m# mean of cross val score (accuracy)\u001b[0m\u001b[1;33m\u001b[0m\u001b[1;33m\u001b[0m\u001b[0m\n\u001b[0;32m      5\u001b[0m \u001b[0mscoreAA\u001b[0m \u001b[1;33m=\u001b[0m \u001b[0mround\u001b[0m\u001b[1;33m(\u001b[0m\u001b[0mDecimal\u001b[0m\u001b[1;33m(\u001b[0m\u001b[0mscores_mlp\u001b[0m\u001b[1;33m.\u001b[0m\u001b[0mmean\u001b[0m\u001b[1;33m(\u001b[0m\u001b[1;33m)\u001b[0m \u001b[1;33m*\u001b[0m \u001b[1;36m100\u001b[0m\u001b[1;33m)\u001b[0m\u001b[1;33m,\u001b[0m \u001b[1;36m2\u001b[0m\u001b[1;33m)\u001b[0m\u001b[1;33m\u001b[0m\u001b[1;33m\u001b[0m\u001b[0m\n",
      "\u001b[1;32mE:\\anaconda3\\lib\\site-packages\\sklearn\\model_selection\\_validation.py\u001b[0m in \u001b[0;36mcross_val_score\u001b[1;34m(estimator, X, y, groups, scoring, cv, n_jobs, verbose, fit_params, pre_dispatch, error_score)\u001b[0m\n\u001b[0;32m    505\u001b[0m     \"\"\"\n\u001b[0;32m    506\u001b[0m     \u001b[1;31m# To ensure multimetric format is not supported\u001b[0m\u001b[1;33m\u001b[0m\u001b[1;33m\u001b[0m\u001b[0m\n\u001b[1;32m--> 507\u001b[1;33m     \u001b[0mscorer\u001b[0m \u001b[1;33m=\u001b[0m \u001b[0mcheck_scoring\u001b[0m\u001b[1;33m(\u001b[0m\u001b[0mestimator\u001b[0m\u001b[1;33m,\u001b[0m \u001b[0mscoring\u001b[0m\u001b[1;33m=\u001b[0m\u001b[0mscoring\u001b[0m\u001b[1;33m)\u001b[0m\u001b[1;33m\u001b[0m\u001b[1;33m\u001b[0m\u001b[0m\n\u001b[0m\u001b[0;32m    508\u001b[0m \u001b[1;33m\u001b[0m\u001b[0m\n\u001b[0;32m    509\u001b[0m     cv_results = cross_validate(\n",
      "\u001b[1;32mE:\\anaconda3\\lib\\site-packages\\sklearn\\metrics\\_scorer.py\u001b[0m in \u001b[0;36mcheck_scoring\u001b[1;34m(estimator, scoring, allow_none)\u001b[0m\n\u001b[0;32m    475\u001b[0m             \u001b[1;32mreturn\u001b[0m \u001b[1;32mNone\u001b[0m\u001b[1;33m\u001b[0m\u001b[1;33m\u001b[0m\u001b[0m\n\u001b[0;32m    476\u001b[0m         \u001b[1;32melse\u001b[0m\u001b[1;33m:\u001b[0m\u001b[1;33m\u001b[0m\u001b[1;33m\u001b[0m\u001b[0m\n\u001b[1;32m--> 477\u001b[1;33m             raise TypeError(\n\u001b[0m\u001b[0;32m    478\u001b[0m                 \u001b[1;34m\"If no scoring is specified, the estimator passed should \"\u001b[0m\u001b[1;33m\u001b[0m\u001b[1;33m\u001b[0m\u001b[0m\n\u001b[0;32m    479\u001b[0m                 \u001b[1;34m\"have a 'score' method. The estimator %r does not.\"\u001b[0m \u001b[1;33m%\u001b[0m \u001b[0mestimator\u001b[0m\u001b[1;33m\u001b[0m\u001b[1;33m\u001b[0m\u001b[0m\n",
      "\u001b[1;31mTypeError\u001b[0m: If no scoring is specified, the estimator passed should have a 'score' method. The estimator <keras.engine.sequential.Sequential object at 0x00000220635C2FA0> does not."
     ]
    }
   ],
   "source": [
    "# Cross Validation Accuracy MLP\n",
    "# performing cross validation with 5 different splits\n",
    "score = cross_val_score(model, X, Y, cv=5)\n",
    "# mean of cross val score (accuracy)\n",
    "scoreAA = round(Decimal(scores_mlp.mean() * 100), 2)\n",
    "cross_accuracy_list.append(scoreAA)\n",
    "print(f\"Cross Validation Accuracy (ANN): {scoreAA}%\")"
   ]
  },
  {
   "cell_type": "markdown",
   "metadata": {
    "colab_type": "text",
    "id": "x0deyBf7-QSD"
   },
   "source": [
    "# **Accuracy Comparison Plot for all the classifiers**"
   ]
  },
  {
   "cell_type": "code",
   "execution_count": 15,
   "metadata": {
    "colab": {
     "base_uri": "https://localhost:8080/",
     "height": 647
    },
    "colab_type": "code",
    "id": "c_4WiPo4mR2M",
    "outputId": "e233f609-b457-47cc-cdaa-9905da4a9355"
   },
   "outputs": [
    {
     "data": {
      "image/png": "[encoded data removed]",
      "text/plain": [
       "<Figure size 1000x1000 with 1 Axes>"
      ]
     },
     "metadata": {},
     "output_type": "display_data"
    }
   ],
   "source": [
    "# comparison plot for all classifiers with their accuracy\n",
    "plt.style.use('seaborn-poster')\n",
    "fig = plt.figure(figsize=(10, 10))\n",
    "ax = fig.add_subplot()\n",
    "plt.title(\"Model Vs Accuracy\")\n",
    "plt.xlabel('Classifier')\n",
    "plt.ylabel('Accuracy (%)')\n",
    "plt.bar(model_list, accuracy_list, color='green')\n",
    "for i, j in enumerate(accuracy_list):\n",
    "    ax.text(float(i)-0.15, float(j)+0.7, str(j), color='blue')\n",
    "plt.show()"
   ]
  },
  {
   "cell_type": "markdown",
   "metadata": {
    "colab_type": "text",
    "id": "ja6vRv2M-l_s"
   },
   "source": [
    "# **Cross Validation Accuracy Comparison Plot for all the classifiers**"
   ]
  },
  {
   "cell_type": "code",
   "execution_count": 14,
   "metadata": {
    "colab": {
     "base_uri": "https://localhost:8080/",
     "height": 647
    },
    "colab_type": "code",
    "id": "8WmaR3XBzT0e",
    "outputId": "77a1a225-6af3-4088-8414-c29ae6a621da"
   },
   "outputs": [
    {
     "data": {
      "image/png": "[encoded data removed]",
      "text/plain": [
       "<Figure size 1000x1000 with 1 Axes>"
      ]
     },
     "metadata": {},
     "output_type": "display_data"
    }
   ],
   "source": [
    "# comparison plot for all classifiers with their accuracy\n",
    "plt.style.use('seaborn-poster')\n",
    "fig = plt.figure(figsize=(10, 10))\n",
    "ax = fig.add_subplot()\n",
    "plt.title(\"Model Vs Cross Validation Accuracy\")\n",
    "plt.xlabel('Classifier')\n",
    "plt.ylabel('Accuracy (%)')\n",
    "plt.bar(model_list, cross_accuracy_list, color='green')\n",
    "for i, j in enumerate(cross_accuracy_list):\n",
    "    ax.text(float(i)-0.15, float(j)+0.7, str(j), color='blue')\n",
    "plt.show()"
   ]
  },
  {
   "cell_type": "code",
   "execution_count": null,
   "metadata": {},
   "outputs": [],
   "source": []
  }
 ],
 "metadata": {
  "accelerator": "GPU",
  "colab": {
   "collapsed_sections": [],
   "name": "Model_latest.ipynb",
   "provenance": []
  },
  "kernelspec": {
   "display_name": "Python 3 (ipykernel)",
   "language": "python",
   "name": "python3"
  },
  "language_info": {
   "codemirror_mode": {
    "name": "ipython",
    "version": 3
   },
   "file_extension": ".py",
   "mimetype": "text/x-python",
   "name": "python",
   "nbconvert_exporter": "python",
   "pygments_lexer": "ipython3",
   "version": "3.9.13"
  }
 },
 "nbformat": 4,
 "nbformat_minor": 1
}
